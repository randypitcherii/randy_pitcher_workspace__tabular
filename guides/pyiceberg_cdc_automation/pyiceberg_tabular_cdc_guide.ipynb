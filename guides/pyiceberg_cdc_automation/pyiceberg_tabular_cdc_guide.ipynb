{
 "cells": [
  {
   "cell_type": "markdown",
   "id": "fa9d8226",
   "metadata": {},
   "source": [
    "# PyIceberg 🐍 Tabular CDC Automation Guide\n",
    "Hey, welcome! \n",
    "\n",
    "This guide shows how you can automate the creation and config of Tabular managed CDC Target (or Mirror) tables with pyiceberg.\n",
    "\n",
    "### Installation:\n",
    "- clone this repo (just do it, it takes 2 seconds)\n",
    "- cd into this folder\n",
    "- install packages: \n",
    "  - `pip install pyiceberg`. \n",
    "  - OR, If you use pipenv like I do (`pip install pipenv jupyterlab`), you can just run `pipenv install` and it'll handle everything\n",
    "\n",
    "See, that wasn't so bad.\n",
    "\n",
    "### Tabular Requirements:\n",
    "- head over to app.tabular.io and log in (or signup if you don't already have an account)\n",
    "- go to connections > security > service account and hit the big + button to create a new credential\n",
    "- assign your service account credential to a role that has the correct access for what you want to do (if you don't know, `EVERYONE` is a pretty safe default)\n",
    "  - We will need full read on your cdc changelog tables\n",
    "  - We will also need write to the location you want your mirror tables to end up in\n",
    "- copy that credential!\n",
    "- come back here and create a `.env` file in this directory (`guides/pyiceberg_cdc_automation/.env`). Edit it to look like below and make sure to SAVE IT.\n",
    "```\n",
    "TABULAR_CREDENTIAL=t-asdf:1234\n",
    "```\n",
    "⬆️ replace `t-asdf:1234` with the tabular credential you just created. \n",
    "\n",
    "Good job! Now we're ready to get down to business 💪\n",
    "\n",
    "### Starting Jupyter Lab:\n",
    "- Seriously, make sure you save that env file. \n",
    "- pipenv users can just run `pipenv run jupyter lab` to fire up jupyter lab. pipenv will load up your credential for you and all will be well\n",
    "- if this is scary, you can ignore the `.env` file and just paste your credential in plaintext directly in this notebook -- but you should feel bad about your craftsmanship.\n",
    "\n",
    "\n",
    "*One last note* -- you definitely don't have the same CDC data I do. Make sure you use your own configs as required, but this should be a really simple starting point for you."
   ]
  },
  {
   "cell_type": "code",
   "execution_count": 1,
   "id": "f0cf9a3e-361e-4447-9ccf-7b67289f32b3",
   "metadata": {},
   "outputs": [],
   "source": [
    "# Establish our connection with Tabular 💪\n",
    "\n",
    "import os\n",
    "\n",
    "from pyiceberg.catalog import load_catalog\n",
    "from pyiceberg.exceptions import TableAlreadyExistsError\n",
    "\n",
    "# You'll need a tabular credential. Member credential or service account will work fine\n",
    "TABULAR_CREDENTIAL       = os.environ['TABULAR_CREDENTIAL']\n",
    "TABULAR_TARGET_WAREHOUSE = 'enterprise_data_warehouse' # replace this with your tabular warehouse name\n",
    "TABULAR_CATALOG_URI      = 'https://api.tabular.io/ws' # unless you're a single tenant user, you don't need to change this\n",
    "\n",
    "catalog_properties = {\n",
    "    'uri':        TABULAR_CATALOG_URI,\n",
    "    'credential': TABULAR_CREDENTIAL,\n",
    "    'warehouse':  TABULAR_TARGET_WAREHOUSE\n",
    "}\n",
    "catalog = load_catalog(**catalog_properties)"
   ]
  },
  {
   "cell_type": "code",
   "execution_count": 6,
   "id": "ac20c2d4-0f10-416b-87ca-98642ccfa8f6",
   "metadata": {},
   "outputs": [],
   "source": [
    "# set some configs for finding our changelog tables 💪\n",
    "changelog_db = 'kafka_connect_raw' # this should already exist\n",
    "changelog_table_postfix = '_changelog' # set this to '' or None if you don't use one of these. But you should really consider it.\n",
    "\n",
    "# set some configs for placing the mirror tables 💪\n",
    "mirror_db = 'cdc_mirrors' # this doesn't have to exist. If it does, awesome -- if not we'll create it\n",
    "mirror_table_postfix = '_mirror' # set this to '' or None if you don't want one of these.\n",
    "mirror_table_should_expand_key_col_struct = True # set to false if your key-column is a scalar\n",
    "\n",
    "# CDC configs for processing the mirror tables 💪\n",
    "cdc_properties = { # https://docs.tabular.io/change-data-capture for more details on this ⬇️\n",
    "    'cdc.type':       'DMS', # don't change this unless you know what you're doing, even if you're not using DMS\n",
    "    'etl.job-type':   'cdc', # don't change this unless you know what you're doing. Even then, maybe don't change this as of 2024-04-01\n",
    "    'etl.target-lag': '0',  # 15 minutes\n",
    "    'cdc.key-column-default': '_cdc.key', # can be the ID of the table as well. This _cdc.key works for any debezium changelog data using the kafka connect iceberg sink with tabular's dbz transform\n",
    "    'cdc.ts-column':  '_cdc.ts',  # the timestamp column of when the change happened\n",
    "}"
   ]
  },
  {
   "cell_type": "code",
   "execution_count": 7,
   "id": "16c7f5b0-88f8-45c4-9979-88b214fe6f99",
   "metadata": {},
   "outputs": [
    {
     "name": "stdout",
     "output_type": "stream",
     "text": [
      "Found changelog table: 'dbz_pg_reactions_changelog'\n",
      "Found changelog table: 'dbz_zodiac_changelog'\n"
     ]
    }
   ],
   "source": [
    "# get changelog tables to build mirrors for 💪\n",
    "changelog_tables = []\n",
    "for _, tablename in catalog.list_tables(changelog_db):\n",
    "    if not changelog_table_postfix or tablename.endswith(changelog_table_postfix):\n",
    "        changelog_tables.append(catalog.load_table(f\"{changelog_db}.{tablename}\"))\n",
    "        print(f\"Found changelog table: '{changelog_tables[-1].identifier[-1]}'\")"
   ]
  },
  {
   "cell_type": "code",
   "execution_count": 8,
   "id": "62781b62-70e7-4899-942a-9fc5f67fca7c",
   "metadata": {},
   "outputs": [
    {
     "name": "stdout",
     "output_type": "stream",
     "text": [
      "Succesfully created mirror namespace 'cdc_mirrors'. 🪐\n",
      "\n",
      "\tSuccesfully created and configured cdc mirror 'cdc_mirrors.dbz_pg_reactions_mirror'🪐\n",
      "\tSuccesfully created and configured cdc mirror 'cdc_mirrors.dbz_zodiac_mirror'🪐\n",
      "\n",
      "Your CDC changes will begin to flow AFTER new change records hit your changelog tables\n"
     ]
    }
   ],
   "source": [
    "# Build mirrors 💪\n",
    "\n",
    "# init mirror db then process a mirror for each changelog, skipping those that may already exist\n",
    "try:\n",
    "    catalog.create_namespace(mirror_db)\n",
    "    print(f\"Succesfully created mirror namespace '{mirror_db}'. 🪐\\n\")\n",
    "except:\n",
    "    print(f\"namespace '{mirror_db}' already exists, moving on 💪\\n\") # lazy, but assuming an error here is because it already exists\n",
    "\n",
    "\n",
    "# process the mirror tables\n",
    "for changelog_table in changelog_tables:\n",
    "    mirror_table_name = mirror_db + '.' + changelog_table.identifier[-1].replace(changelog_table_postfix, mirror_table_postfix)\n",
    "    try:\n",
    "        # create the table with the same schema as the changelog\n",
    "        mirror_table = catalog.create_table(\n",
    "            identifier=mirror_table_name,\n",
    "            schema=changelog_table.schema()\n",
    "        )\n",
    "\n",
    "        # get the unique key(s) for this change log:\n",
    "        if mirror_table_should_expand_key_col_struct:\n",
    "            # get to choppin up that _cdc.key struct\n",
    "            cdc_key_columns = []\n",
    "            for field in changelog_table.schema().find_field(cdc_properties['cdc.key-column-default']).field_type.fields:\n",
    "                cdc_key_columns.append(cdc_properties['cdc.key-column-default'] + '.' + field.name)\n",
    "\n",
    "            cdc_properties['cdc.key-column'] = ','.join(cdc_key_columns)\n",
    "        else:\n",
    "            cdc_properties['cdc.key-column'] = cdc_properties['cdc.key-column-default']\n",
    "\n",
    "        # set the cdc table props for this new mirror\n",
    "        with mirror_table.transaction() as transaction:\n",
    "            transaction.set_properties(**cdc_properties)\n",
    "\n",
    "        # update the changelog table so it triggers CDC processing against this mirror\n",
    "        changelog_cdc_property = { # https://docs.tabular.io/change-data-capture for more details\n",
    "            'dependent-tables': mirror_table_name\n",
    "        }\n",
    "        with changelog_table.transaction() as transaction:\n",
    "            transaction.set_properties(**changelog_cdc_property)\n",
    "\n",
    "        print(f\"\\tSuccesfully created and configured cdc mirror '{mirror_table_name}'🪐\")\n",
    "        \n",
    "        \n",
    "    except TableAlreadyExistsError:\n",
    "        print(f\"Mirror table already exists for table '{mirror_table_name}'. Taking no action here and moving on to the next table ⚡\")\n",
    "\n",
    "print('\\nYour CDC changes will begin to flow AFTER new change records hit your changelog tables')"
   ]
  }
 ],
 "metadata": {
  "kernelspec": {
   "display_name": "Python 3 (ipykernel)",
   "language": "python",
   "name": "python3"
  },
  "language_info": {
   "codemirror_mode": {
    "name": "ipython",
    "version": 3
   },
   "file_extension": ".py",
   "mimetype": "text/x-python",
   "name": "python",
   "nbconvert_exporter": "python",
   "pygments_lexer": "ipython3",
   "version": "3.11.6"
  }
 },
 "nbformat": 4,
 "nbformat_minor": 5
}
