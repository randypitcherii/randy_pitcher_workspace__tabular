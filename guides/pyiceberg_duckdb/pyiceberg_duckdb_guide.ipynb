{
 "cells": [
  {
   "cell_type": "markdown",
   "id": "fa9d8226",
   "metadata": {},
   "source": [
    "# PyIceberg 🐍 + duckdb 🦆 Guide\n",
    "Hey, welcome! \n",
    "\n",
    "This guide gets you started with DuckDB and PyIceberg on Tabular.\n",
    "\n",
    "### Installation:\n",
    "- clone this repo (just do it, it takes 2 seconds)\n",
    "- cd into this folder\n",
    "- install dependencies: \n",
    "  - `pip install \"pyiceberg[duckdb]\" jupyterlab pytz`\n",
    "  - OR, If you use pipenv like I do (`pip install pipenv`), you can just run `pipenv install` and it'll handle everything\n",
    "\n",
    "See, that wasn't so bad.\n",
    "\n",
    "### Tabular Requirements:\n",
    "- head over to app.tabular.io and log in (or signup if you don't already have an account)\n",
    "- go to connections > security > service account and hit the big + button to create a new credential\n",
    "- assign your service account credential to a role that has the correct access for what you want to do (if you don't know, `EVERYONE` is a pretty safe default)\n",
    "- copy that credential!\n",
    "- come back here and create a `.env` file in this directory (`guides/pyiceberg_duckdb/.env`). Edit it to look like below and make sure to SAVE IT.\n",
    "```\n",
    "TABULAR_CREDENTIAL=t-asdf:1234\n",
    "```\n",
    "⬆️ replace `t-asdf:1234` with the tabular credential you just created. \n",
    "\n",
    "Good job! Now we're ready to get down to business 💪\n",
    "\n",
    "### Starting Jupyter Lab:\n",
    "- Seriously, make sure you save that env file. \n",
    "- pipenv users can just run `pipenv run jupyter lab` to fire up jupyter lab. pipenv will load up your credential for you and all will be well\n",
    "- if this is scary, you can ignore the `.env` file and just paste your credential in plaintext directly in this notebook -- but you should feel bad about your craftsmanship.\n",
    "\n",
    "\n",
    "*One last note* -- you definitely don't have the weather data that I have in your warehouse. It's just an example. Connect to whatever data you want to.\n",
    "\n",
    "Happy building! 🧊"
   ]
  },
  {
   "cell_type": "code",
   "execution_count": 1,
   "id": "f0cf9a3e-361e-4447-9ccf-7b67289f32b3",
   "metadata": {},
   "outputs": [],
   "source": [
    "import os\n",
    "\n",
    "from pyiceberg.catalog import load_catalog\n",
    "\n",
    "# You'll need a tabular credential. Member credential or service account will work fine\n",
    "TABULAR_CREDENTIAL       = os.environ['TABULAR_CREDENTIAL']\n",
    "TABULAR_TARGET_WAREHOUSE = 'enterprise_data_warehouse' # replace this with your tabular warehouse name\n",
    "TABULAR_CATALOG_URI      = 'https://api.tabular.io/ws' # unless you're a single tenant user, you don't need to change this\n",
    "\n",
    "catalog_properties = {\n",
    "    'uri':        TABULAR_CATALOG_URI,\n",
    "    'credential': TABULAR_CREDENTIAL,\n",
    "    'warehouse':  TABULAR_TARGET_WAREHOUSE\n",
    "}\n",
    "catalog = load_catalog(**catalog_properties)"
   ]
  },
  {
   "cell_type": "code",
   "execution_count": 11,
   "id": "ac20c2d4-0f10-416b-87ca-98642ccfa8f6",
   "metadata": {},
   "outputs": [
    {
     "name": "stdout",
     "output_type": "stream",
     "text": [
      "Duckdb 🦆 average temp by city over the last few hours:\n",
      "('New York', 49.662666666666674)\n",
      "('Indianapolis', 59.60021739130434)\n",
      "('London', 53.29913043478261)\n",
      "('San Jose', 58.48326086956522)\n",
      "('Nashville', 73.93522727272726)\n",
      "('Tokyo', 51.41891304347825)\n",
      "('St Louis', 74.50222222222222)\n",
      "('Paris', 55.035333333333334)\n",
      "('Sydney', 67.05717391304348)\n"
     ]
    }
   ],
   "source": [
    "# load the weather data 🌞\n",
    "tbl = catalog.load_table(\"batch_raw.serverless_weather_raw\")\n",
    "\n",
    "# query with duckdb\n",
    "con = tbl.scan().to_duckdb(table_name=\"serverless_weather_raw\")\n",
    "res = con.execute(\"\"\"\n",
    "    select \n",
    "        name as city_name,\n",
    "        avg(main.temp) as avg_temp_degrees_f\n",
    "    \n",
    "    from serverless_weather_raw \n",
    "\n",
    "    where to_timestamp(dt) > NOW() - INTERVAL '4' HOUR\n",
    "\n",
    "    group by city_name\n",
    "\"\"\").fetchall()\n",
    "\n",
    "\n",
    "print('Duckdb 🦆 average temp by city over the last few hours:')\n",
    "for row in res:\n",
    "    print(row)"
   ]
  },
  {
   "cell_type": "code",
   "execution_count": 22,
   "id": "62781b62-70e7-4899-942a-9fc5f67fca7c",
   "metadata": {},
   "outputs": [
    {
     "name": "stdout",
     "output_type": "stream",
     "text": [
      "Duckdb 🦆 latest temp by city over the last few hours:\n",
      "('Paris', 52.36, '2024-04-01 15:07:17')\n",
      "('Tokyo', 49.98, '2024-04-01 15:07:08')\n",
      "('Sydney', 66.36, '2024-04-01 15:03:42')\n",
      "('St Louis', 78.06, '2024-04-01 15:09:55')\n",
      "('Nashville', 75.83, '2024-04-01 15:03:33')\n",
      "('London', 50.94, '2024-04-01 15:04:51')\n",
      "('New York', 50.65, '2024-04-01 15:08:09')\n",
      "('Indianapolis', 62.94, '2024-04-01 15:00:36')\n",
      "('San Jose', 65.79, '2024-04-01 15:03:09')\n"
     ]
    }
   ],
   "source": [
    "# single row retrieval -- get latest temp by region\n",
    "res = con.execute(\"\"\"\n",
    "    with numbered_rows AS (\n",
    "      select \n",
    "        name as city_name,\n",
    "        main.temp as temp_degrees_f,\n",
    "        to_timestamp(dt) as temp_measured_at,\n",
    "        row_number() over (partition by city_name order by dt desc) as row_num\n",
    "        \n",
    "      from\n",
    "        serverless_weather_raw\n",
    "    )\n",
    "    \n",
    "    select\n",
    "        city_name,\n",
    "        temp_degrees_f,\n",
    "        strftime(temp_measured_at, '%Y-%m-%d %H:%M:%S') \n",
    "        \n",
    "    from \n",
    "        numbered_rows\n",
    "        \n",
    "    where \n",
    "        row_num = 1\n",
    "\"\"\").fetchall()\n",
    "\n",
    "\n",
    "print('Duckdb 🦆 latest temp by city:')\n",
    "for row in res:\n",
    "    print(row)"
   ]
  }
 ],
 "metadata": {
  "kernelspec": {
   "display_name": "Python 3 (ipykernel)",
   "language": "python",
   "name": "python3"
  },
  "language_info": {
   "codemirror_mode": {
    "name": "ipython",
    "version": 3
   },
   "file_extension": ".py",
   "mimetype": "text/x-python",
   "name": "python",
   "nbconvert_exporter": "python",
   "pygments_lexer": "ipython3",
   "version": "3.11.6"
  }
 },
 "nbformat": 4,
 "nbformat_minor": 5
}
