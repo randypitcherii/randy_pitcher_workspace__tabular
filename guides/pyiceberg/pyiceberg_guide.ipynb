{
 "cells": [
  {
   "cell_type": "markdown",
   "id": "fa9d8226",
   "metadata": {},
   "source": [
    "# PyIceberg 🐍 + Polars 🐻‍❄️ Guide\n",
    "Hey, welcome! \n",
    "\n",
    "This guide gets you started with Polars and PyIceberg on Tabular.\n",
    "\n",
    "### Installation:\n",
    "- clone this repo (just do it, it takes 2 seconds)\n",
    "- cd into this folder\n",
    "- install these python packages: `pyiceberg pyarrow numpy polars`. If you use pipenv like I do (`pip install pipenv`), you can just run `pipenv install` and it'll handle everything\n",
    "\n",
    "See, that wasn't so bad.\n",
    "\n",
    "### Tabular Requirements:\n",
    "- head over to app.tabular.io and log in (or signup if you don't already have an account)\n",
    "- go to connections > security > service account and hit the big + button to create a new credential\n",
    "- assign your service account credential to a role that has the correct access for what you want to do (if you don't know, `EVERYONE` is a pretty safe default)\n",
    "- copy that credential!\n",
    "- come back here and create a `.env` file in this directory (`guides/pyiceberg/.env`). Edit it to look like below and make sure to SAVE IT.\n",
    "```\n",
    "TABULAR_CREDENTIAL=t-asdf:1234\n",
    "```\n",
    "⬆️ replace `t-asdf:1234` with the tabular credential you just created. \n",
    "\n",
    "Good job! Now we're ready to get down to business 💪\n",
    "\n",
    "### Starting Jupyter Lab:\n",
    "- Seriously, make sure you save that env file. \n",
    "- pipenv users can just run `pipenv run jupyter lab` to fire up jupyter lab. pipenv will load up your credential for you and all will be well\n",
    "- if this is scary, you can ignore the `.env` file and just paste your credential in plaintext directly in this notebook -- but you should feel bad about your craftsmanship.\n",
    "\n",
    "\n",
    "*One last note* -- you definitely don't have the weather data that I have in your warehouse. It's just an example. Connect to whatever data you want to.\n",
    "\n",
    "Happy building! 🧊"
   ]
  },
  {
   "cell_type": "code",
   "execution_count": null,
   "id": "f0cf9a3e-361e-4447-9ccf-7b67289f32b3",
   "metadata": {},
   "outputs": [],
   "source": [
    "import os, time\n",
    "\n",
    "from pyiceberg.catalog import load_catalog\n",
    "import polars as pl\n",
    "\n",
    "# You'll need a tabular credential. Member credential or service account will work fine\n",
    "TABULAR_CREDENTIAL       = os.environ['TABULAR_CREDENTIAL']\n",
    "TABULAR_TARGET_WAREHOUSE = 'enterprise_data_warehouse' # replace this with your tabular warehouse name\n",
    "TABULAR_CATALOG_URI      = 'https://api.tabular.io/ws' # unless you're a single tenant user, you don't need to change this\n",
    "\n",
    "catalog_properties = {\n",
    "    'uri':        TABULAR_CATALOG_URI,\n",
    "    'credential': TABULAR_CREDENTIAL,\n",
    "    'warehouse':  TABULAR_TARGET_WAREHOUSE\n",
    "}\n",
    "catalog = load_catalog(**catalog_properties)"
   ]
  },
  {
   "cell_type": "code",
   "execution_count": 40,
   "id": "ac20c2d4-0f10-416b-87ca-98642ccfa8f6",
   "metadata": {},
   "outputs": [
    {
     "name": "stdout",
     "output_type": "stream",
     "text": [
      "Polars 🐻‍❄️ average temp by city over the last few hours:\n"
     ]
    },
    {
     "data": {
      "text/html": [
       "<div><style>\n",
       ".dataframe > thead > tr,\n",
       ".dataframe > tbody > tr {\n",
       "  text-align: right;\n",
       "  white-space: pre-wrap;\n",
       "}\n",
       "</style>\n",
       "<small>shape: (9, 2)</small><table border=\"1\" class=\"dataframe\"><thead><tr><th>city</th><th>avg_recent_temp_f</th></tr><tr><td>str</td><td>f64</td></tr></thead><tbody><tr><td>&quot;New York&quot;</td><td>37.430455</td></tr><tr><td>&quot;London&quot;</td><td>45.571818</td></tr><tr><td>&quot;Sydney&quot;</td><td>71.984762</td></tr><tr><td>&quot;Indianapolis&quot;</td><td>44.572273</td></tr><tr><td>&quot;San Jose&quot;</td><td>59.684545</td></tr><tr><td>&quot;St Louis&quot;</td><td>53.871364</td></tr><tr><td>&quot;Tokyo&quot;</td><td>61.255714</td></tr><tr><td>&quot;Paris&quot;</td><td>46.866087</td></tr><tr><td>&quot;Nashville&quot;</td><td>55.564091</td></tr></tbody></table></div>"
      ],
      "text/plain": [
       "shape: (9, 2)\n",
       "┌──────────────┬───────────────────┐\n",
       "│ city         ┆ avg_recent_temp_f │\n",
       "│ ---          ┆ ---               │\n",
       "│ str          ┆ f64               │\n",
       "╞══════════════╪═══════════════════╡\n",
       "│ New York     ┆ 37.430455         │\n",
       "│ London       ┆ 45.571818         │\n",
       "│ Sydney       ┆ 71.984762         │\n",
       "│ Indianapolis ┆ 44.572273         │\n",
       "│ San Jose     ┆ 59.684545         │\n",
       "│ St Louis     ┆ 53.871364         │\n",
       "│ Tokyo        ┆ 61.255714         │\n",
       "│ Paris        ┆ 46.866087         │\n",
       "│ Nashville    ┆ 55.564091         │\n",
       "└──────────────┴───────────────────┘"
      ]
     },
     "execution_count": 40,
     "metadata": {},
     "output_type": "execute_result"
    }
   ],
   "source": [
    "# load the weather data 🌞\n",
    "tbl = catalog.load_table(\"batch_raw.serverless_weather_raw\")\n",
    "df = pl.scan_iceberg(tbl).unnest('main')\n",
    "\n",
    "# Get the average temp by city over the last couple hours\n",
    "few_hours_ago = int(time.time() - 2*60*60) # 2 hours ago\n",
    "df_indy = pl.SQLContext(frame=df).execute(\n",
    "    f\"\"\"\n",
    "    select \n",
    "        name as city, \n",
    "        avg(temp) as avg_recent_temp_f\n",
    "\n",
    "    from frame\n",
    "\n",
    "    where dt > {few_hours_ago}\n",
    "\n",
    "    group by name\n",
    "    \"\"\"\n",
    ")\n",
    "\n",
    "print('Polars 🐻‍❄️ average temp by city over the last few hours:')\n",
    "df_indy.collect()"
   ]
  }
 ],
 "metadata": {
  "kernelspec": {
   "display_name": "Python 3 (ipykernel)",
   "language": "python",
   "name": "python3"
  },
  "language_info": {
   "codemirror_mode": {
    "name": "ipython",
    "version": 3
   },
   "file_extension": ".py",
   "mimetype": "text/x-python",
   "name": "python",
   "nbconvert_exporter": "python",
   "pygments_lexer": "ipython3",
   "version": "3.11.6"
  }
 },
 "nbformat": 4,
 "nbformat_minor": 5
}
