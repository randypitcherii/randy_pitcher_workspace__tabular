{
 "cells": [
  {
   "cell_type": "code",
   "execution_count": null,
   "id": "2a8f6544-aadb-45a4-863e-ccc4fccd9167",
   "metadata": {},
   "outputs": [],
   "source": []
  }
 ],
 "metadata": {
  "kernelspec": {
   "display_name": "Tabular Ready Template on Serverless Spark (Remote)",
   "language": "python",
   "name": "9c39b79e5d2e7072beb4bd59-runtime-0000c76c2160"
  },
  "language_info": {
   "name": ""
  }
 },
 "nbformat": 4,
 "nbformat_minor": 5
}
