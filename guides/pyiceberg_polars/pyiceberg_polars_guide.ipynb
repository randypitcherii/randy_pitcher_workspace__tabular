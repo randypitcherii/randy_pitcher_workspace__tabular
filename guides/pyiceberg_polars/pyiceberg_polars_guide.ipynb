{
 "cells": [
  {
   "cell_type": "markdown",
   "id": "fa9d8226",
   "metadata": {},
   "source": [
    "# PyIceberg 🐍 + Polars 🐻‍❄️ Guide\n",
    "Hey, welcome! \n",
    "\n",
    "This guide gets you started with Polars and PyIceberg on Tabular.\n",
    "\n",
    "### Installation:\n",
    "- clone this repo (just do it, it takes 2 seconds)\n",
    "- cd into this folder\n",
    "- install these python packages: `pyiceberg pyarrow numpy polars`. If you use pipenv like I do (`pip install pipenv`), you can just run `pipenv install` and it'll handle everything\n",
    "\n",
    "See, that wasn't so bad.\n",
    "\n",
    "### Tabular Requirements:\n",
    "- head over to app.tabular.io and log in (or signup if you don't already have an account)\n",
    "- go to connections > security > service account and hit the big + button to create a new credential\n",
    "- assign your service account credential to a role that has the correct access for what you want to do (if you don't know, `EVERYONE` is a pretty safe default)\n",
    "- copy that credential!\n",
    "- come back here and create a `.env` file in this directory (`guides/pyiceberg/.env`). Edit it to look like below and make sure to SAVE IT.\n",
    "```\n",
    "TABULAR_CREDENTIAL=t-asdf:1234\n",
    "```\n",
    "⬆️ replace `t-asdf:1234` with the tabular credential you just created. \n",
    "\n",
    "Good job! Now we're ready to get down to business 💪\n",
    "\n",
    "### Starting Jupyter Lab:\n",
    "- Seriously, make sure you save that env file. \n",
    "- pipenv users can just run `pipenv run jupyter lab` to fire up jupyter lab. pipenv will load up your credential for you and all will be well\n",
    "- if this is scary, you can ignore the `.env` file and just paste your credential in plaintext directly in this notebook -- but you should feel bad about your craftsmanship.\n",
    "\n",
    "\n",
    "*One last note* -- you definitely don't have the weather data that I have in your warehouse. It's just an example. Connect to whatever data you want to.\n",
    "\n",
    "Happy building! 🧊"
   ]
  },
  {
   "cell_type": "code",
   "execution_count": 5,
   "id": "f0cf9a3e-361e-4447-9ccf-7b67289f32b3",
   "metadata": {},
   "outputs": [],
   "source": [
    "import os, time\n",
    "\n",
    "from pyiceberg.catalog import load_catalog\n",
    "import polars as pl\n",
    "\n",
    "# You'll need a tabular credential. Member credential or service account will work fine\n",
    "TABULAR_CREDENTIAL       = os.environ['TABULAR_CREDENTIAL']\n",
    "TABULAR_TARGET_WAREHOUSE = 'enterprise_data_warehouse' # replace this with your tabular warehouse name\n",
    "TABULAR_CATALOG_URI      = 'https://api.tabular.io/ws' # unless you're a single tenant user, you don't need to change this\n",
    "\n",
    "catalog_properties = {\n",
    "    'uri':        TABULAR_CATALOG_URI,\n",
    "    'credential': TABULAR_CREDENTIAL,\n",
    "    'warehouse':  TABULAR_TARGET_WAREHOUSE\n",
    "}\n",
    "catalog = load_catalog(**catalog_properties)"
   ]
  },
  {
   "cell_type": "code",
   "execution_count": 29,
   "id": "ac20c2d4-0f10-416b-87ca-98642ccfa8f6",
   "metadata": {},
   "outputs": [
    {
     "name": "stdout",
     "output_type": "stream",
     "text": [
      "Polars 🐻‍❄️ average temp by city over the last few hours:\n"
     ]
    },
    {
     "data": {
      "text/plain": [
       "<bound method DataFrame.glimpse of shape: (9, 3)\n",
       "┌──────────────┬───────────────────┬─────────────────────┐\n",
       "│ city         ┆ avg_recent_temp_f ┆ data_last_loaded_at │\n",
       "│ ---          ┆ ---               ┆ ---                 │\n",
       "│ str          ┆ f64               ┆ str                 │\n",
       "╞══════════════╪═══════════════════╪═════════════════════╡\n",
       "│ Tokyo        ┆ 53.383636         ┆ 2024-02-20 12:56:33 │\n",
       "│ New York     ┆ 34.834091         ┆ 2024-02-20 12:56:18 │\n",
       "│ Paris        ┆ 49.161364         ┆ 2024-02-20 12:54:46 │\n",
       "│ St Louis     ┆ 54.140952         ┆ 2024-02-20 12:51:49 │\n",
       "│ Nashville    ┆ 56.29             ┆ 2024-02-20 12:51:32 │\n",
       "│ San Jose     ┆ 54.96             ┆ 2024-02-20 12:51:15 │\n",
       "│ Indianapolis ┆ 48.944545         ┆ 2024-02-20 12:50:44 │\n",
       "│ Sydney       ┆ 66.412174         ┆ 2024-02-20 12:49:09 │\n",
       "│ London       ┆ 52.00619          ┆ 2024-02-20 12:47:22 │\n",
       "└──────────────┴───────────────────┴─────────────────────┘>"
      ]
     },
     "execution_count": 29,
     "metadata": {},
     "output_type": "execute_result"
    }
   ],
   "source": [
    "# load the weather data 🌞\n",
    "tbl = catalog.load_table(\"batch_raw.serverless_weather_raw\")\n",
    "df = pl.scan_iceberg(tbl).unnest('main')\n",
    "\n",
    "# Get the average temp by city over the last couple hours\n",
    "few_hours_ago = int(time.time() - 2*60*60) # 2 hours ago\n",
    "df_indy = pl.SQLContext(frame=df).execute(\n",
    "    f\"\"\"\n",
    "    select \n",
    "        name as city, \n",
    "        avg(temp) as avg_recent_temp_f,\n",
    "        max(dt) as data_last_loaded_at\n",
    "\n",
    "    from frame\n",
    "\n",
    "    where dt > {few_hours_ago}\n",
    "\n",
    "    group by name\n",
    "\n",
    "    order by data_last_loaded_at desc\n",
    "    \"\"\"\n",
    ")\n",
    "\n",
    "df_indy_with_time = df_indy.with_columns([\n",
    "    pl.col(\"data_last_loaded_at\").cast(pl.Int64) * 1000000\n",
    "]).with_columns([\n",
    "    pl.col(\n",
    "        \"data_last_loaded_at\"\n",
    "    ).cast(\n",
    "        pl.Datetime\n",
    "    ).dt.convert_time_zone(\n",
    "        'America/New_York'\n",
    "    ).dt.strftime(\"%Y-%m-%d %I:%M:%S\")\n",
    "])\n",
    "\n",
    "\n",
    "print('Polars 🐻‍❄️ average temp by city over the last few hours:')\n",
    "df_indy_with_time.collect().glimpse"
   ]
  },
  {
   "cell_type": "code",
   "execution_count": null,
   "id": "62781b62-70e7-4899-942a-9fc5f67fca7c",
   "metadata": {},
   "outputs": [],
   "source": []
  }
 ],
 "metadata": {
  "kernelspec": {
   "display_name": "Python 3 (ipykernel)",
   "language": "python",
   "name": "python3"
  },
  "language_info": {
   "codemirror_mode": {
    "name": "ipython",
    "version": 3
   },
   "file_extension": ".py",
   "mimetype": "text/x-python",
   "name": "python",
   "nbconvert_exporter": "python",
   "pygments_lexer": "ipython3",
   "version": "3.11.6"
  }
 },
 "nbformat": 4,
 "nbformat_minor": 5
}
